{
 "cells": [
  {
   "cell_type": "code",
   "execution_count": 475,
   "metadata": {},
   "outputs": [],
   "source": [
    "import pandas as pd\n",
    "import numpy as np\n",
    "import seaborn as sns\n",
    "import matplotlib.pyplot as plt\n"
   ]
  },
  {
   "cell_type": "code",
   "execution_count": 476,
   "metadata": {},
   "outputs": [],
   "source": [
    "sns.set_style(\"whitegrid\")\n",
    "sns.set_context(\"notebook\")\n",
    "pd.options.display.max_rows = 200\n",
    "\n",
    "plt.rcParams['font.family'] = 'sans-serif'\n",
    "plt.rcParams['font.sans-serif'] = 'Helvetica'"
   ]
  },
  {
   "cell_type": "markdown",
   "metadata": {},
   "source": [
    "My goal in this notebook is to investigate which factors contribute to a developer's job satisfaction. With this in mind, I think that only somre of the 85 columns are actually relevant to our analysis. Furthermore, some fields contain **multiple** categorical answers, which have to be extracted and separated."
   ]
  },
  {
   "cell_type": "markdown",
   "metadata": {},
   "source": [
    "The original dataset contains 85 columns, mostly categorical. My goal in this notebook is to investigate which factors contribute to a developer's job satisfaction. With this in mind, I think that only some of the original 85 columns are actually relevant to our analysis. To avoid cluttering the notebook, I already excluded the features that I don't want to investigate further, such as the developer's learning goals for 2020 and some personal information like sexuality and ethnicity - though I decided to keep the *Gender* column.\n",
    "\n",
    "The survey includes both a column for \"Career Satisfaction\" and one for \"Job Satisfaction\". Based on which  For example, if I choose to focus on job satisfaction I will want to exclude the \"Job Seeking\" column from my analysis, since that probably most people dissatisfied with their job will be activelu looking for a new one, and considering that variable would pollute the analysis.\n",
    "\n",
    "In the end, I've decided to settle on **job satisfaction**, since I think that someone evaluating their career satisfaction would take into account a lot more variables that are harder to quantify and/or are not included in the survey."
   ]
  },
  {
   "cell_type": "markdown",
   "metadata": {},
   "source": [
    "## Importing data and initial analysis"
   ]
  },
  {
   "cell_type": "code",
   "execution_count": 477,
   "metadata": {},
   "outputs": [],
   "source": [
    "survey_raw = pd.read_csv(\"data/survey_results_public_reduced.csv\", header = 0, sep = ';', encoding = 'ISO 8859-1')"
   ]
  },
  {
   "cell_type": "code",
   "execution_count": 478,
   "metadata": {},
   "outputs": [
    {
     "data": {
      "text/html": [
       "<div>\n",
       "<style scoped>\n",
       "    .dataframe tbody tr th:only-of-type {\n",
       "        vertical-align: middle;\n",
       "    }\n",
       "\n",
       "    .dataframe tbody tr th {\n",
       "        vertical-align: top;\n",
       "    }\n",
       "\n",
       "    .dataframe thead th {\n",
       "        text-align: right;\n",
       "    }\n",
       "</style>\n",
       "<table border=\"1\" class=\"dataframe\">\n",
       "  <thead>\n",
       "    <tr style=\"text-align: right;\">\n",
       "      <th></th>\n",
       "      <th>MainBranch</th>\n",
       "      <th>Hobbyist</th>\n",
       "      <th>OpenSourcer</th>\n",
       "      <th>Employment</th>\n",
       "      <th>Country</th>\n",
       "      <th>EdLevel</th>\n",
       "      <th>UndergradMajor</th>\n",
       "      <th>EduOther</th>\n",
       "      <th>OrgSize</th>\n",
       "      <th>DevType</th>\n",
       "      <th>...</th>\n",
       "      <th>ConvertedComp</th>\n",
       "      <th>WorkWeekHrs</th>\n",
       "      <th>WorkPlan</th>\n",
       "      <th>WorkChallenge</th>\n",
       "      <th>WorkRemote</th>\n",
       "      <th>ImpSyn</th>\n",
       "      <th>LanguageWorkedWith</th>\n",
       "      <th>Extraversion</th>\n",
       "      <th>Age</th>\n",
       "      <th>Gender</th>\n",
       "    </tr>\n",
       "  </thead>\n",
       "  <tbody>\n",
       "    <tr>\n",
       "      <th>0</th>\n",
       "      <td>I am a student who is learning to code</td>\n",
       "      <td>Yes</td>\n",
       "      <td>Never</td>\n",
       "      <td>Not employed, and not looking for work</td>\n",
       "      <td>United Kingdom</td>\n",
       "      <td>Primary/elementary school</td>\n",
       "      <td>NaN</td>\n",
       "      <td>Taught yourself a new language, framework, or ...</td>\n",
       "      <td>NaN</td>\n",
       "      <td>NaN</td>\n",
       "      <td>...</td>\n",
       "      <td>NaN</td>\n",
       "      <td>NaN</td>\n",
       "      <td>NaN</td>\n",
       "      <td>NaN</td>\n",
       "      <td>NaN</td>\n",
       "      <td>NaN</td>\n",
       "      <td>HTML/CSS;Java;JavaScript;Python</td>\n",
       "      <td>Online</td>\n",
       "      <td>14.0</td>\n",
       "      <td>Man</td>\n",
       "    </tr>\n",
       "    <tr>\n",
       "      <th>1</th>\n",
       "      <td>I am a student who is learning to code</td>\n",
       "      <td>No</td>\n",
       "      <td>Less than once per year</td>\n",
       "      <td>Not employed, but looking for work</td>\n",
       "      <td>Bosnia and Herzegovina</td>\n",
       "      <td>Secondary school (e.g. American high school, G...</td>\n",
       "      <td>NaN</td>\n",
       "      <td>Taken an online course in programming or softw...</td>\n",
       "      <td>NaN</td>\n",
       "      <td>Developer, desktop or enterprise applications;...</td>\n",
       "      <td>...</td>\n",
       "      <td>NaN</td>\n",
       "      <td>NaN</td>\n",
       "      <td>NaN</td>\n",
       "      <td>NaN</td>\n",
       "      <td>NaN</td>\n",
       "      <td>NaN</td>\n",
       "      <td>C++;HTML/CSS;Python</td>\n",
       "      <td>Online</td>\n",
       "      <td>19.0</td>\n",
       "      <td>Man</td>\n",
       "    </tr>\n",
       "    <tr>\n",
       "      <th>2</th>\n",
       "      <td>I am not primarily a developer, but I write co...</td>\n",
       "      <td>Yes</td>\n",
       "      <td>Never</td>\n",
       "      <td>Employed full-time</td>\n",
       "      <td>Thailand</td>\n",
       "      <td>Bachelors degree (BA, BS, B.Eng., etc.)</td>\n",
       "      <td>Web development or web design</td>\n",
       "      <td>Taught yourself a new language, framework, or ...</td>\n",
       "      <td>100 to 499 employees</td>\n",
       "      <td>Designer;Developer, back-end;Developer, front-...</td>\n",
       "      <td>...</td>\n",
       "      <td>8820.0</td>\n",
       "      <td>40.0</td>\n",
       "      <td>There's no schedule or spec; I work on what se...</td>\n",
       "      <td>Distracting work environment;Inadequate access...</td>\n",
       "      <td>Less than once per month / Never</td>\n",
       "      <td>Average</td>\n",
       "      <td>HTML/CSS</td>\n",
       "      <td>In real life (in person)</td>\n",
       "      <td>28.0</td>\n",
       "      <td>Man</td>\n",
       "    </tr>\n",
       "    <tr>\n",
       "      <th>3</th>\n",
       "      <td>I am a developer by profession</td>\n",
       "      <td>No</td>\n",
       "      <td>Never</td>\n",
       "      <td>Employed full-time</td>\n",
       "      <td>United States</td>\n",
       "      <td>Bachelors degree (BA, BS, B.Eng., etc.)</td>\n",
       "      <td>Computer science, computer engineering, or sof...</td>\n",
       "      <td>Taken an online course in programming or softw...</td>\n",
       "      <td>100 to 499 employees</td>\n",
       "      <td>Developer, full-stack</td>\n",
       "      <td>...</td>\n",
       "      <td>61000.0</td>\n",
       "      <td>80.0</td>\n",
       "      <td>There's no schedule or spec; I work on what se...</td>\n",
       "      <td>NaN</td>\n",
       "      <td>Less than once per month / Never</td>\n",
       "      <td>A little below average</td>\n",
       "      <td>C;C++;C#;Python;SQL</td>\n",
       "      <td>In real life (in person)</td>\n",
       "      <td>22.0</td>\n",
       "      <td>Man</td>\n",
       "    </tr>\n",
       "    <tr>\n",
       "      <th>4</th>\n",
       "      <td>I am a developer by profession</td>\n",
       "      <td>Yes</td>\n",
       "      <td>Once a month or more often</td>\n",
       "      <td>Employed full-time</td>\n",
       "      <td>Ukraine</td>\n",
       "      <td>Bachelors degree (BA, BS, B.Eng., etc.)</td>\n",
       "      <td>Computer science, computer engineering, or sof...</td>\n",
       "      <td>Taken an online course in programming or softw...</td>\n",
       "      <td>10,000 or more employees</td>\n",
       "      <td>Academic researcher;Developer, desktop or ente...</td>\n",
       "      <td>...</td>\n",
       "      <td>NaN</td>\n",
       "      <td>55.0</td>\n",
       "      <td>There is a schedule and/or spec (made by me or...</td>\n",
       "      <td>Being tasked with non-development work;Inadequ...</td>\n",
       "      <td>A few days each month</td>\n",
       "      <td>A little above average</td>\n",
       "      <td>C++;HTML/CSS;Java;JavaScript;Python;SQL;VBA</td>\n",
       "      <td>In real life (in person)</td>\n",
       "      <td>30.0</td>\n",
       "      <td>Man</td>\n",
       "    </tr>\n",
       "  </tbody>\n",
       "</table>\n",
       "<p>5 rows × 30 columns</p>\n",
       "</div>"
      ],
      "text/plain": [
       "                                          MainBranch Hobbyist  \\\n",
       "0             I am a student who is learning to code      Yes   \n",
       "1             I am a student who is learning to code       No   \n",
       "2  I am not primarily a developer, but I write co...      Yes   \n",
       "3                     I am a developer by profession       No   \n",
       "4                     I am a developer by profession      Yes   \n",
       "\n",
       "                  OpenSourcer                              Employment  \\\n",
       "0                       Never  Not employed, and not looking for work   \n",
       "1     Less than once per year      Not employed, but looking for work   \n",
       "2                       Never                      Employed full-time   \n",
       "3                       Never                      Employed full-time   \n",
       "4  Once a month or more often                      Employed full-time   \n",
       "\n",
       "                  Country                                            EdLevel  \\\n",
       "0          United Kingdom                          Primary/elementary school   \n",
       "1  Bosnia and Herzegovina  Secondary school (e.g. American high school, G...   \n",
       "2                Thailand           Bachelors degree (BA, BS, B.Eng., etc.)   \n",
       "3           United States           Bachelors degree (BA, BS, B.Eng., etc.)   \n",
       "4                 Ukraine           Bachelors degree (BA, BS, B.Eng., etc.)   \n",
       "\n",
       "                                      UndergradMajor  \\\n",
       "0                                                NaN   \n",
       "1                                                NaN   \n",
       "2                      Web development or web design   \n",
       "3  Computer science, computer engineering, or sof...   \n",
       "4  Computer science, computer engineering, or sof...   \n",
       "\n",
       "                                            EduOther  \\\n",
       "0  Taught yourself a new language, framework, or ...   \n",
       "1  Taken an online course in programming or softw...   \n",
       "2  Taught yourself a new language, framework, or ...   \n",
       "3  Taken an online course in programming or softw...   \n",
       "4  Taken an online course in programming or softw...   \n",
       "\n",
       "                    OrgSize  \\\n",
       "0                       NaN   \n",
       "1                       NaN   \n",
       "2      100 to 499 employees   \n",
       "3      100 to 499 employees   \n",
       "4  10,000 or more employees   \n",
       "\n",
       "                                             DevType  ... ConvertedComp  \\\n",
       "0                                                NaN  ...           NaN   \n",
       "1  Developer, desktop or enterprise applications;...  ...           NaN   \n",
       "2  Designer;Developer, back-end;Developer, front-...  ...        8820.0   \n",
       "3                              Developer, full-stack  ...       61000.0   \n",
       "4  Academic researcher;Developer, desktop or ente...  ...           NaN   \n",
       "\n",
       "  WorkWeekHrs                                           WorkPlan  \\\n",
       "0         NaN                                                NaN   \n",
       "1         NaN                                                NaN   \n",
       "2        40.0  There's no schedule or spec; I work on what se...   \n",
       "3        80.0  There's no schedule or spec; I work on what se...   \n",
       "4        55.0  There is a schedule and/or spec (made by me or...   \n",
       "\n",
       "                                       WorkChallenge  \\\n",
       "0                                                NaN   \n",
       "1                                                NaN   \n",
       "2  Distracting work environment;Inadequate access...   \n",
       "3                                                NaN   \n",
       "4  Being tasked with non-development work;Inadequ...   \n",
       "\n",
       "                         WorkRemote                  ImpSyn  \\\n",
       "0                               NaN                     NaN   \n",
       "1                               NaN                     NaN   \n",
       "2  Less than once per month / Never                 Average   \n",
       "3  Less than once per month / Never  A little below average   \n",
       "4             A few days each month  A little above average   \n",
       "\n",
       "                            LanguageWorkedWith              Extraversion  \\\n",
       "0              HTML/CSS;Java;JavaScript;Python                    Online   \n",
       "1                          C++;HTML/CSS;Python                    Online   \n",
       "2                                     HTML/CSS  In real life (in person)   \n",
       "3                          C;C++;C#;Python;SQL  In real life (in person)   \n",
       "4  C++;HTML/CSS;Java;JavaScript;Python;SQL;VBA  In real life (in person)   \n",
       "\n",
       "    Age Gender  \n",
       "0  14.0    Man  \n",
       "1  19.0    Man  \n",
       "2  28.0    Man  \n",
       "3  22.0    Man  \n",
       "4  30.0    Man  \n",
       "\n",
       "[5 rows x 30 columns]"
      ]
     },
     "execution_count": 478,
     "metadata": {},
     "output_type": "execute_result"
    }
   ],
   "source": [
    "survey_raw.head()"
   ]
  },
  {
   "cell_type": "markdown",
   "metadata": {},
   "source": [
    "You'll notice that in its raw form the dataset is not suitable to build a ML model, since most of the answers are categorical. Those fields will have to be properly encoded before a model can extract any insight from this data. \n",
    "\n",
    "However, we can stick to the predefined fields for the exploratory analysis phase."
   ]
  },
  {
   "cell_type": "code",
   "execution_count": 479,
   "metadata": {},
   "outputs": [
    {
     "name": "stdout",
     "output_type": "stream",
     "text": [
      "Index(['MainBranch', 'Hobbyist', 'OpenSourcer', 'Employment', 'Country',\n",
      "       'EdLevel', 'UndergradMajor', 'EduOther', 'OrgSize', 'DevType',\n",
      "       'YearsCode', 'Age1stCode', 'YearsCodePro', 'CareerSat', 'JobSat',\n",
      "       'MgrIdiot', 'MgrMoney', 'MgrWant', 'LastHireDate', 'JobFactors',\n",
      "       'ConvertedComp', 'WorkWeekHrs', 'WorkPlan', 'WorkChallenge',\n",
      "       'WorkRemote', 'ImpSyn', 'LanguageWorkedWith', 'Extraversion', 'Age',\n",
      "       'Gender'],\n",
      "      dtype='object')\n",
      "<class 'pandas.core.frame.DataFrame'>\n",
      "RangeIndex: 88883 entries, 0 to 88882\n",
      "Columns: 30 entries, MainBranch to Gender\n",
      "dtypes: float64(3), object(27)\n",
      "memory usage: 20.3+ MB\n",
      "None\n"
     ]
    }
   ],
   "source": [
    "print(survey_raw.columns)\n",
    "print(survey_raw.info(verbose = False))"
   ]
  },
  {
   "cell_type": "markdown",
   "metadata": {},
   "source": [
    "As we can see, the dataset contains almost 90000 answers to the survey. However, not all survey takers are developers: the survey also includes student, ex-devs and other categories. To figure out how many of these answers are from working developers, we can look at the *MainBranch* column."
   ]
  },
  {
   "cell_type": "markdown",
   "metadata": {},
   "source": [
    "Some of these are apparently numeric fields, that are now classified as object. This is because these fields have some text answers, like \"Less than 1 year\" for the \"Years as a professional coder\" field. "
   ]
  },
  {
   "cell_type": "code",
   "execution_count": 480,
   "metadata": {},
   "outputs": [
    {
     "data": {
      "text/plain": [
       "Index(['ConvertedComp', 'WorkWeekHrs', 'Age'], dtype='object')"
      ]
     },
     "execution_count": 480,
     "metadata": {},
     "output_type": "execute_result"
    }
   ],
   "source": [
    "survey_raw.select_dtypes(include=[float,int]).columns"
   ]
  },
  {
   "cell_type": "markdown",
   "metadata": {},
   "source": [
    "#### Selecting data of interest"
   ]
  },
  {
   "cell_type": "markdown",
   "metadata": {},
   "source": [
    "I will remove from the dataset:\n",
    "- People who are not currently developers (e.g. student, ex devs)\n",
    "- Part-time developers\n",
    "- Answers from developer with less than 1 year of coding experience (included outside of work)\n",
    "\n",
    "This will have the added advantage of making the \"YearsCode\" column entirely numerical."
   ]
  },
  {
   "cell_type": "code",
   "execution_count": 481,
   "metadata": {},
   "outputs": [],
   "source": [
    "# only prof. developers\n",
    "survey_dev = survey_raw[(survey_raw['MainBranch'] == 'I am a developer by profession')]\n",
    "\n",
    "# exclude part time\n",
    "survey_dev = survey_dev[(survey_dev['Employment'] == 'Employed full-time')\n",
    "| (survey_dev['Employment'] == 'Independent contractor, freelancer, or self-employed') ]\n",
    "\n",
    "# exclude less than 1 year coding\n",
    "survey_dev = survey_dev[(survey_dev['YearsCodePro'] != 'Less than 1 year')]\n"
   ]
  },
  {
   "cell_type": "code",
   "execution_count": 482,
   "metadata": {},
   "outputs": [
    {
     "name": "stdout",
     "output_type": "stream",
     "text": [
      "<class 'pandas.core.frame.DataFrame'>\n",
      "Int64Index: 59009 entries, 4 to 88330\n",
      "Data columns (total 30 columns):\n",
      " #   Column              Non-Null Count  Dtype  \n",
      "---  ------              --------------  -----  \n",
      " 0   MainBranch          59009 non-null  object \n",
      " 1   Hobbyist            59009 non-null  object \n",
      " 2   OpenSourcer         59009 non-null  object \n",
      " 3   Employment          59009 non-null  object \n",
      " 4   Country             59009 non-null  object \n",
      " 5   EdLevel             57994 non-null  object \n",
      " 6   UndergradMajor      54586 non-null  object \n",
      " 7   EduOther            56528 non-null  object \n",
      " 8   OrgSize             57572 non-null  object \n",
      " 9   DevType             58480 non-null  object \n",
      " 10  YearsCode           58637 non-null  object \n",
      " 11  Age1stCode          58475 non-null  object \n",
      " 12  YearsCodePro        58547 non-null  object \n",
      " 13  CareerSat           59009 non-null  object \n",
      " 14  JobSat              58745 non-null  object \n",
      " 15  MgrIdiot            49277 non-null  object \n",
      " 16  MgrMoney            49286 non-null  object \n",
      " 17  MgrWant             49345 non-null  object \n",
      " 18  LastHireDate        58680 non-null  object \n",
      " 19  JobFactors          58304 non-null  object \n",
      " 20  ConvertedComp       46709 non-null  float64\n",
      " 21  WorkWeekHrs         53696 non-null  float64\n",
      " 22  WorkPlan            57093 non-null  object \n",
      " 23  WorkChallenge       56528 non-null  object \n",
      " 24  WorkRemote          58187 non-null  object \n",
      " 25  ImpSyn              58223 non-null  object \n",
      " 26  LanguageWorkedWith  58681 non-null  object \n",
      " 27  Extraversion        58103 non-null  object \n",
      " 28  Age                 53747 non-null  float64\n",
      " 29  Gender              57091 non-null  object \n",
      "dtypes: float64(3), object(27)\n",
      "memory usage: 14.0+ MB\n"
     ]
    }
   ],
   "source": [
    "survey_dev.info()"
   ]
  },
  {
   "cell_type": "markdown",
   "metadata": {},
   "source": [
    "We've dropped about 30000 entries. Also, since Job Satisfaction is out target variable, it's best to drop the rows for which it's null - they're just a few hundred."
   ]
  },
  {
   "cell_type": "code",
   "execution_count": 483,
   "metadata": {},
   "outputs": [],
   "source": [
    "survey_dev = survey_dev[survey_dev.JobSat.notnull()]"
   ]
  },
  {
   "cell_type": "markdown",
   "metadata": {},
   "source": [
    "## Exploratory data analysis"
   ]
  },
  {
   "cell_type": "markdown",
   "metadata": {
    "toc-hr-collapsed": true
   },
   "source": [
    "### Demographics"
   ]
  },
  {
   "cell_type": "markdown",
   "metadata": {},
   "source": [
    "#### Country"
   ]
  },
  {
   "cell_type": "code",
   "execution_count": 484,
   "metadata": {},
   "outputs": [
    {
     "data": {
      "image/png": "[encoded data removed]",
      "text/plain": [
       "<Figure size 576x360 with 1 Axes>"
      ]
     },
     "metadata": {},
     "output_type": "display_data"
    }
   ],
   "source": [
    "# Country \n",
    "survey_dev['CountryCat'] = survey_dev['Country']\n",
    "survey_dev['CountryCat'] = np.where(((survey_dev['Country'] != 'United States') \n",
    "                                     & (survey_dev['Country'] != 'United Kingdom')\n",
    "                                     & (survey_dev['Country'] != 'India'))\n",
    "                                    , 'Other', survey_dev['Country'])\n",
    "sns.catplot(x=\"CountryCat\", kind=\"count\", data=survey_dev, aspect = 1.6)\n",
    "plt.xlabel('Country');"
   ]
  },
  {
   "cell_type": "markdown",
   "metadata": {},
   "source": [
    "Let's start off with a tricky one. As you see, the majority of respondents actually aren't from the United States or UK. India is very well represented, along with other countries all over the world.\n",
    "The reason this makes the analysis tricky is that it basically stops us from using the *Compensation* column as a feature for the model. Even though the compensation has been converted to US dollars for all survey respondents, it cannot give us any reliable information since the same amount of money will lead to wildly different purchasing powers in different countries.\n",
    "\n",
    "So, I will remove the compensation column now."
   ]
  },
  {
   "cell_type": "code",
   "execution_count": 485,
   "metadata": {},
   "outputs": [],
   "source": [
    "survey_dev = survey_dev.drop(['ConvertedComp', 'CountryCat'],axis = 1)"
   ]
  },
  {
   "cell_type": "markdown",
   "metadata": {},
   "source": [
    "#### Age"
   ]
  },
  {
   "cell_type": "code",
   "execution_count": 486,
   "metadata": {},
   "outputs": [
    {
     "data": {
      "image/png": "[encoded data removed]",
      "text/plain": [
       "<Figure size 432x288 with 1 Axes>"
      ]
     },
     "metadata": {},
     "output_type": "display_data"
    }
   ],
   "source": [
    "#Age\n",
    "sns.distplot(survey_dev['Age'])\n",
    "plt.xlim(15, 70);\n"
   ]
  },
  {
   "cell_type": "markdown",
   "metadata": {},
   "source": [
    "#### Gender"
   ]
  },
  {
   "cell_type": "code",
   "execution_count": 487,
   "metadata": {},
   "outputs": [
    {
     "name": "stdout",
     "output_type": "stream",
     "text": [
      "Man                                                            52673\n",
      "Woman                                                           3664\n",
      "Non-binary, genderqueer, or gender non-conforming                342\n",
      "Man;Non-binary, genderqueer, or gender non-conforming            106\n",
      "Woman;Non-binary, genderqueer, or gender non-conforming           84\n",
      "Woman;Man                                                         50\n",
      "Woman;Man;Non-binary, genderqueer, or gender non-conforming       30\n",
      "Name: Gender, dtype: int64\n",
      "\n",
      "Number of NULL gender values: 1796\n",
      "Percentage of developers who identify as men: 89.66%\n"
     ]
    }
   ],
   "source": [
    "#Gender\n",
    "print(survey_dev['Gender'].value_counts() )\n",
    "\n",
    "print('\\nNumber of NULL gender values: ' + str(survey_dev['Gender'].isnull().sum()))\n",
    "\n",
    "man_p = 100*(len(survey_dev[survey_dev['Gender'] == 'Man']) / len(survey_dev))\n",
    "print('Percentage of developers who identify as men: ' + str(np.round(man_p,2)) + '%')\n"
   ]
  },
  {
   "cell_type": "markdown",
   "metadata": {},
   "source": [
    "I don't want to remove the takers who identified as something other than Man or Woman, but to simplify the analysis I'm going to group all these other responses in an 'Other' column. I'm also going to drop the null values."
   ]
  },
  {
   "cell_type": "code",
   "execution_count": 488,
   "metadata": {},
   "outputs": [
    {
     "data": {
      "text/plain": [
       "<seaborn.axisgrid.FacetGrid at 0x2e6c1be8b88>"
      ]
     },
     "execution_count": 488,
     "metadata": {},
     "output_type": "execute_result"
    },
    {
     "data": {
      "image/png": "[encoded data removed]",
      "text/plain": [
       "<Figure size 360x360 with 1 Axes>"
      ]
     },
     "metadata": {},
     "output_type": "display_data"
    }
   ],
   "source": [
    "survey_dev['Gender'] = np.where(((survey_dev['Gender'] != 'Man') & (survey_dev['Gender'] != 'Woman')), 'Other', survey_dev['Gender'])\n",
    "\n",
    "sns.catplot(x=\"Gender\", kind=\"count\", data=survey_dev)"
   ]
  },
  {
   "cell_type": "code",
   "execution_count": 489,
   "metadata": {},
   "outputs": [
    {
     "data": {
      "image/png": "[encoded data removed]",
      "text/plain": [
       "<Figure size 576x432 with 1 Axes>"
      ]
     },
     "metadata": {},
     "output_type": "display_data"
    }
   ],
   "source": [
    "props = survey_dev.groupby(\"Gender\")['JobSat'].value_counts(normalize=True).unstack()\n",
    "\n",
    "props.plot(kind='bar', stacked='True', figsize = (8,6))\n",
    "plt.legend(bbox_to_anchor=(1.04,1), loc=\"upper left\");\n",
    "plt.title('Job Satisfaction by Gender',fontsize = 14);"
   ]
  },
  {
   "cell_type": "markdown",
   "metadata": {},
   "source": [
    "Interestingly, there seems to be very **little difference in the distribution of job satisfaction** among genders. Women have replied \"Very Satisfied\" slightly more often (about 38% of all replies) than developers in the other categories (about 32%)."
   ]
  },
  {
   "cell_type": "markdown",
   "metadata": {
    "toc-hr-collapsed": true
   },
   "source": [
    "### Education"
   ]
  },
  {
   "cell_type": "code",
   "execution_count": 490,
   "metadata": {},
   "outputs": [
    {
     "data": {
      "text/plain": [
       "<matplotlib.axes._subplots.AxesSubplot at 0x2e6c19c3b08>"
      ]
     },
     "execution_count": 490,
     "metadata": {},
     "output_type": "execute_result"
    },
    {
     "name": "stderr",
     "output_type": "stream",
     "text": [
      "C:\\Users\\hissi\\Anaconda3\\lib\\site-packages\\matplotlib\\backends\\backend_agg.py:211: RuntimeWarning: Glyph 146 missing from current font.\n",
      "  font.set_text(s, 0.0, flags=flags)\n",
      "C:\\Users\\hissi\\Anaconda3\\lib\\site-packages\\matplotlib\\backends\\backend_agg.py:180: RuntimeWarning: Glyph 146 missing from current font.\n",
      "  font.set_text(s, 0, flags=flags)\n"
     ]
    },
    {
     "data": {
      "image/png": "[encoded data removed]",
      "text/plain": [
       "<Figure size 504x720 with 1 Axes>"
      ]
     },
     "metadata": {},
     "output_type": "display_data"
    }
   ],
   "source": [
    "survey_dev['EdLevel'].value_counts().plot(kind='barh', figsize=(7,10))"
   ]
  },
  {
   "cell_type": "markdown",
   "metadata": {},
   "source": [
    "There's a column that I think contains a lot of interesting information: *EduOther*. The answers come from a multiple-choice question with the possibility of choosing more than one. This last factor complicates our analysis quite a lot.\n",
    "\n",
    "\n",
    "The possible answers were:\n",
    "- Taken an online course in programming or software development (e.g. a MOOC)\n",
    "- Contributed to open source software (this information is already included in the *OpenSourcer* column, so I will ignore it)\n",
    "- Taught yourself a new language, framework, or tool without taking a formal course\n",
    "- Taken a part-time in-person course in programming or software development\n",
    "- Participated in a hackathon\n",
    "- Completed an industry certification program (e.g. MCPD)\n",
    "- Participated in online coding competitions (e.g. HackerRank, CodeChef, TopCoder)\n",
    "\n",
    "Even if it clearly cannot be used as it is, this column can still come in handy for us.\n",
    "In particular, I would like to create a new **self-taught** category, that includes developers who meet ALL these conditions:\n",
    "- don't have a STEM degree (most non-computer science STEM programs still have at least one programming course), except for health sciences majors\n",
    "- didn't participate in a bootcamp or similar in-person programs\n",
    "\n",
    "These conditions are pretty strict: I will still consider people who took online courses as self-taught.\n",
    "\n",
    "I'm curious to see if this new feature will show any correlation to job satisfaction."
   ]
  },
  {
   "cell_type": "markdown",
   "metadata": {},
   "source": [
    "#### Self-taught developers"
   ]
  },
  {
   "cell_type": "code",
   "execution_count": 491,
   "metadata": {},
   "outputs": [
    {
     "data": {
      "text/plain": [
       "Computer science, computer engineering, or software engineering          36162\n",
       "Another engineering discipline (ex. civil, electrical, mechanical)        4123\n",
       "Information systems, information technology, or system administration     3587\n",
       "Web development or web design                                             2361\n",
       "A natural science (ex. biology, chemistry, physics)                       1928\n",
       "Mathematics or statistics                                                 1899\n",
       "A business discipline (ex. accounting, finance, marketing)                1022\n",
       "A humanities discipline (ex. literature, history, philosophy)             1015\n",
       "Fine arts or performing arts (ex. graphic design, music, studio art)       823\n",
       "A social science (ex. anthropology, psychology, political science)         776\n",
       "I never declared a major                                                   574\n",
       "A health science (ex. nursing, pharmacy, radiology)                        126\n",
       "Name: UndergradMajor, dtype: int64"
      ]
     },
     "execution_count": 491,
     "metadata": {},
     "output_type": "execute_result"
    }
   ],
   "source": [
    "survey_dev['UndergradMajor'].value_counts()"
   ]
  },
  {
   "cell_type": "code",
   "execution_count": 492,
   "metadata": {},
   "outputs": [],
   "source": [
    "not_self_taught = ((survey_dev['EduOther'].str.contains('bootcamp')) | (survey_dev['UndergradMajor'].str.contains('never'))\n",
    "                        | (survey_dev['UndergradMajor'].str.contains('natural'))\n",
    "                        | (survey_dev['UndergradMajor'].str.contains('computer'))\n",
    "                        | (survey_dev['UndergradMajor'].str.contains('information'))\n",
    "                        | (survey_dev['UndergradMajor'].str.contains('web'))\n",
    "                        | (survey_dev['UndergradMajor'].str.contains('Mathematics'))\n",
    "                        | (survey_dev['UndergradMajor'].str.contains('electrical')))\n",
    "\n",
    "\n",
    "survey_dev = survey_dev.assign(SelfTaught=1)\n",
    "survey_dev['SelfTaught'] = np.where(not_self_taught, 0, survey_dev['SelfTaught'])"
   ]
  },
  {
   "cell_type": "code",
   "execution_count": 493,
   "metadata": {},
   "outputs": [
    {
     "data": {
      "text/plain": [
       "A humanities discipline (ex. literature, history, philosophy)           761\n",
       "A business discipline (ex. accounting, finance, marketing)              754\n",
       "Fine arts or performing arts (ex. graphic design, music, studio art)    652\n",
       "A social science (ex. anthropology, psychology, political science)      557\n",
       "A health science (ex. nursing, pharmacy, radiology)                      89\n",
       "I never declared a major                                                 26\n",
       "Name: UndergradMajor, dtype: int64"
      ]
     },
     "execution_count": 493,
     "metadata": {},
     "output_type": "execute_result"
    }
   ],
   "source": [
    "survey_dev[survey_dev['SelfTaught'] == 1]['UndergradMajor'].value_counts()"
   ]
  },
  {
   "cell_type": "markdown",
   "metadata": {},
   "source": [
    "We end up with about **6000 self-taught developers** according to our criteria."
   ]
  },
  {
   "cell_type": "code",
   "execution_count": 494,
   "metadata": {},
   "outputs": [
    {
     "data": {
      "image/png": "[encoded data removed]",
      "text/plain": [
       "<Figure size 432x432 with 1 Axes>"
      ]
     },
     "metadata": {},
     "output_type": "display_data"
    }
   ],
   "source": [
    "props_self = survey_dev.groupby(\"SelfTaught\")['JobSat'].value_counts(normalize=True).unstack()\n",
    "\n",
    "props_self.plot(kind='bar', stacked='True', figsize = (6,6))\n",
    "plt.legend(bbox_to_anchor=(1.04,1), loc=\"upper left\");\n"
   ]
  },
  {
   "cell_type": "markdown",
   "metadata": {},
   "source": [
    "Mmmm...seems like there's not much to see here. We will check this later when we build the model and measure relative feature importance."
   ]
  },
  {
   "cell_type": "markdown",
   "metadata": {},
   "source": [
    "#### Field of study \n",
    "\n",
    "Another thing I wonder is whether people who work in the field that they studied for are more satisfied than others. For developers, The \"relevant\" majors to consider would be (as they appear in the *UndergradMajor* column):\n",
    "- Web development or web design (front-end and full-stack developers)\n",
    "- Computer science, computer engineering, or software engineering \n",
    "- Information systems, information technology, or system administration \n",
    "\n",
    "I will also consider the subcategory of people who work in data science and studied Mathematics/Statistics, since they are technically working in their study fields."
   ]
  },
  {
   "cell_type": "code",
   "execution_count": 495,
   "metadata": {},
   "outputs": [
    {
     "name": "stdout",
     "output_type": "stream",
     "text": [
      "72.0% of developers in the survey come from a computer science or data-related major.\n"
     ]
    }
   ],
   "source": [
    "survey_dev = survey_dev.assign(SameField=0)\n",
    "# Developers who have relevant majors\n",
    "majors = ((survey_dev['UndergradMajor'].str.contains('web')) \n",
    "        |(survey_dev['UndergradMajor'].str.contains('computer'))\n",
    "        | (survey_dev['UndergradMajor'].str.contains('information')) )\n",
    "# Developers working in data \n",
    "data_scientist = ((survey_dev['DevType'].str.contains('Data scientist'))\n",
    "                  & (survey_dev['UndergradMajor'].str.contains('statistics')))\n",
    "\n",
    "survey_dev['SameField'] = np.where(majors, 1, survey_dev['SameField'])\n",
    "survey_dev['SameField'] = np.where(data_scientist, 1, survey_dev['SameField'])\n",
    "\n",
    "perc_dev = np.round(100*survey_dev['SameField'].sum()/len(survey_dev))\n",
    "print(str(perc_dev)+'% of developers in the survey come from a computer science or data-related major.')"
   ]
  },
  {
   "cell_type": "code",
   "execution_count": 496,
   "metadata": {},
   "outputs": [
    {
     "data": {
      "text/plain": [
       "Computer science, computer engineering, or software engineering          36162\n",
       "Information systems, information technology, or system administration     3587\n",
       "Web development or web design                                             2361\n",
       "Mathematics or statistics                                                  416\n",
       "Name: UndergradMajor, dtype: int64"
      ]
     },
     "execution_count": 496,
     "metadata": {},
     "output_type": "execute_result"
    }
   ],
   "source": [
    "survey_dev[survey_dev['SameField'] == 1]['UndergradMajor'].value_counts()"
   ]
  },
  {
   "cell_type": "markdown",
   "metadata": {},
   "source": [
    "## Data wrangling"
   ]
  },
  {
   "cell_type": "code",
   "execution_count": null,
   "metadata": {},
   "outputs": [],
   "source": []
  },
  {
   "cell_type": "markdown",
   "metadata": {},
   "source": [
    "### Data types"
   ]
  },
  {
   "cell_type": "markdown",
   "metadata": {},
   "source": [
    "I will try to use scikit's learn preprocessing feature as much as possible, over Pandas' analogue features. *Example*: OneHotEncoder() vs pd.get_dummies()\n",
    "\n",
    "This provides two main advantages:\n",
    "- you don't keep adding columns to your original DataFrame\n",
    "- it makes the process more easily reproducible and easier to change. If you change your mind on how to encode a certain variable, in pandas you would have to remove the old column and make a new one. With scikit-learn, it's"
   ]
  },
  {
   "cell_type": "code",
   "execution_count": 497,
   "metadata": {},
   "outputs": [
    {
     "ename": "NameError",
     "evalue": "name 'preprocessing' is not defined",
     "output_type": "error",
     "traceback": [
      "\u001b[1;31m---------------------------------------------------------------------------\u001b[0m",
      "\u001b[1;31mNameError\u001b[0m                                 Traceback (most recent call last)",
      "\u001b[1;32m<ipython-input-497-4995d0155e0a>\u001b[0m in \u001b[0;36m<module>\u001b[1;34m\u001b[0m\n\u001b[0;32m      1\u001b[0m \u001b[0mbrowsers\u001b[0m \u001b[1;33m=\u001b[0m \u001b[1;33m[\u001b[0m\u001b[1;34m'uses Chrome'\u001b[0m\u001b[1;33m,\u001b[0m \u001b[1;34m'uses Firefox'\u001b[0m\u001b[1;33m,\u001b[0m \u001b[1;34m'uses IE'\u001b[0m\u001b[1;33m,\u001b[0m \u001b[1;34m'uses Safari'\u001b[0m\u001b[1;33m]\u001b[0m\u001b[1;33m\u001b[0m\u001b[1;33m\u001b[0m\u001b[0m\n\u001b[1;32m----> 2\u001b[1;33m \u001b[0mpreprocessing\u001b[0m\u001b[1;33m.\u001b[0m\u001b[0mOneHotEncoder\u001b[0m\u001b[1;33m(\u001b[0m\u001b[0mcategories\u001b[0m\u001b[1;33m=\u001b[0m\u001b[1;33m[\u001b[0m\u001b[0mgenders\u001b[0m\u001b[1;33m,\u001b[0m \u001b[0mlocations\u001b[0m\u001b[1;33m,\u001b[0m \u001b[0mbrowsers\u001b[0m\u001b[1;33m]\u001b[0m\u001b[1;33m,\u001b[0m \u001b[0mhandle_unknown\u001b[0m \u001b[1;33m=\u001b[0m \u001b[0mignore\u001b[0m\u001b[1;33m)\u001b[0m\u001b[1;33m\u001b[0m\u001b[1;33m\u001b[0m\u001b[0m\n\u001b[0m",
      "\u001b[1;31mNameError\u001b[0m: name 'preprocessing' is not defined"
     ]
    }
   ],
   "source": [
    "browsers = ['uses Chrome', 'uses Firefox', 'uses IE', 'uses Safari']\n",
    "preprocessing.OneHotEncoder(categories=[genders, locations, browsers], handle_unknown = ignore)\n"
   ]
  },
  {
   "cell_type": "markdown",
   "metadata": {},
   "source": [
    "### Target value"
   ]
  },
  {
   "cell_type": "code",
   "execution_count": null,
   "metadata": {},
   "outputs": [],
   "source": []
  }
 ],
 "metadata": {
  "kernelspec": {
   "display_name": "Python 3",
   "language": "python",
   "name": "python3"
  },
  "language_info": {
   "codemirror_mode": {
    "name": "ipython",
    "version": 3
   },
   "file_extension": ".py",
   "mimetype": "text/x-python",
   "name": "python",
   "nbconvert_exporter": "python",
   "pygments_lexer": "ipython3",
   "version": "3.7.6"
  }
 },
 "nbformat": 4,
 "nbformat_minor": 4
}
