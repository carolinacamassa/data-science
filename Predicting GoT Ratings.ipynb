{
 "cells": [
  {
   "cell_type": "code",
   "execution_count": 215,
   "metadata": {},
   "outputs": [],
   "source": [
    "import pandas as pd\n",
    "import numpy as np\n",
    "\n",
    "from matplotlib import pyplot as plt\n",
    "import seaborn as sns\n",
    "import sklearn\n",
    "\n",
    "sns.set()\n",
    "np.random.seed(42)"
   ]
  },
  {
   "cell_type": "markdown",
   "metadata": {},
   "source": [
    "## Introduction\n",
    "\n",
    "The aim of this project is to attempt to predict the __IMDB Rating__ of (already aired) Game of Thrones episodes based on other features of the episodes, which will be detailed in the next sections.\n",
    "\n",
    "\n"
   ]
  },
  {
   "cell_type": "markdown",
   "metadata": {},
   "source": [
    "## Importing data\n",
    "\n",
    "The data comes from an .xlsx file containing 73 rows, one for each episode in season 1-8. \n",
    "The columns include information on the Director, Writers, the Runtime, and the amount of Imdb votes. There is of course also a column for the target variable *Imdb Rating*. There is also a categorical information - *Major Battle* which is 1 when the episode contains one or more important battles. This value, along with the Notable Death Count, is necessarily subjective.\n"
   ]
  },
  {
   "cell_type": "code",
   "execution_count": 216,
   "metadata": {},
   "outputs": [
    {
     "name": "stdout",
     "output_type": "stream",
     "text": [
      "<class 'pandas.core.frame.DataFrame'>\n",
      "Int64Index: 73 entries, 1 to 73\n",
      "Data columns (total 10 columns):\n",
      "Season                 73 non-null int64\n",
      "Number in Season       73 non-null int64\n",
      "Major Battle           73 non-null int64\n",
      "Episode Name           73 non-null object\n",
      "Director               73 non-null object\n",
      "Writer                 73 non-null object\n",
      "Runtime (mins)         73 non-null int64\n",
      "IMDB votes             73 non-null int64\n",
      "Imdb Rating            73 non-null float64\n",
      "Notable Death Count    73 non-null int64\n",
      "dtypes: float64(1), int64(6), object(3)\n",
      "memory usage: 6.3+ KB\n"
     ]
    },
    {
     "data": {
      "text/html": [
       "<div>\n",
       "<style scoped>\n",
       "    .dataframe tbody tr th:only-of-type {\n",
       "        vertical-align: middle;\n",
       "    }\n",
       "\n",
       "    .dataframe tbody tr th {\n",
       "        vertical-align: top;\n",
       "    }\n",
       "\n",
       "    .dataframe thead th {\n",
       "        text-align: right;\n",
       "    }\n",
       "</style>\n",
       "<table border=\"1\" class=\"dataframe\">\n",
       "  <thead>\n",
       "    <tr style=\"text-align: right;\">\n",
       "      <th></th>\n",
       "      <th>Season</th>\n",
       "      <th>Number in Season</th>\n",
       "      <th>Major Battle</th>\n",
       "      <th>Episode Name</th>\n",
       "      <th>Director</th>\n",
       "      <th>Writer</th>\n",
       "      <th>Runtime (mins)</th>\n",
       "      <th>IMDB votes</th>\n",
       "      <th>Imdb Rating</th>\n",
       "      <th>Notable Death Count</th>\n",
       "    </tr>\n",
       "    <tr>\n",
       "      <th>Episode #</th>\n",
       "      <th></th>\n",
       "      <th></th>\n",
       "      <th></th>\n",
       "      <th></th>\n",
       "      <th></th>\n",
       "      <th></th>\n",
       "      <th></th>\n",
       "      <th></th>\n",
       "      <th></th>\n",
       "      <th></th>\n",
       "    </tr>\n",
       "  </thead>\n",
       "  <tbody>\n",
       "    <tr>\n",
       "      <th>1</th>\n",
       "      <td>1</td>\n",
       "      <td>1</td>\n",
       "      <td>0</td>\n",
       "      <td>Winter Is Coming</td>\n",
       "      <td>Tim Van Patten</td>\n",
       "      <td>Benioff &amp; Weiss</td>\n",
       "      <td>62</td>\n",
       "      <td>27685</td>\n",
       "      <td>9.0</td>\n",
       "      <td>4</td>\n",
       "    </tr>\n",
       "    <tr>\n",
       "      <th>2</th>\n",
       "      <td>1</td>\n",
       "      <td>2</td>\n",
       "      <td>0</td>\n",
       "      <td>The Kingsroad</td>\n",
       "      <td>Tim Van Patten</td>\n",
       "      <td>Benioff &amp; Weiss</td>\n",
       "      <td>56</td>\n",
       "      <td>21256</td>\n",
       "      <td>8.8</td>\n",
       "      <td>3</td>\n",
       "    </tr>\n",
       "    <tr>\n",
       "      <th>3</th>\n",
       "      <td>1</td>\n",
       "      <td>3</td>\n",
       "      <td>0</td>\n",
       "      <td>Lord Snow</td>\n",
       "      <td>Brian Kirk</td>\n",
       "      <td>Benioff &amp; Weiss</td>\n",
       "      <td>58</td>\n",
       "      <td>20090</td>\n",
       "      <td>8.7</td>\n",
       "      <td>0</td>\n",
       "    </tr>\n",
       "    <tr>\n",
       "      <th>4</th>\n",
       "      <td>1</td>\n",
       "      <td>4</td>\n",
       "      <td>0</td>\n",
       "      <td>Cripples, Bastards, and Broken Things</td>\n",
       "      <td>Brian Kirk</td>\n",
       "      <td>Bryan Cogman</td>\n",
       "      <td>56</td>\n",
       "      <td>19123</td>\n",
       "      <td>8.8</td>\n",
       "      <td>1</td>\n",
       "    </tr>\n",
       "    <tr>\n",
       "      <th>5</th>\n",
       "      <td>1</td>\n",
       "      <td>5</td>\n",
       "      <td>0</td>\n",
       "      <td>The Wolf and the Lion</td>\n",
       "      <td>Brian Kirk</td>\n",
       "      <td>Benioff &amp; Weiss</td>\n",
       "      <td>55</td>\n",
       "      <td>20062</td>\n",
       "      <td>9.1</td>\n",
       "      <td>5</td>\n",
       "    </tr>\n",
       "  </tbody>\n",
       "</table>\n",
       "</div>"
      ],
      "text/plain": [
       "           Season  Number in Season  Major Battle  \\\n",
       "Episode #                                           \n",
       "1               1                 1             0   \n",
       "2               1                 2             0   \n",
       "3               1                 3             0   \n",
       "4               1                 4             0   \n",
       "5               1                 5             0   \n",
       "\n",
       "                                    Episode Name        Director  \\\n",
       "Episode #                                                          \n",
       "1                               Winter Is Coming  Tim Van Patten   \n",
       "2                                  The Kingsroad  Tim Van Patten   \n",
       "3                                      Lord Snow      Brian Kirk   \n",
       "4          Cripples, Bastards, and Broken Things      Brian Kirk   \n",
       "5                          The Wolf and the Lion      Brian Kirk   \n",
       "\n",
       "                    Writer  Runtime (mins)  IMDB votes  Imdb Rating  \\\n",
       "Episode #                                                             \n",
       "1          Benioff & Weiss              62       27685          9.0   \n",
       "2          Benioff & Weiss              56       21256          8.8   \n",
       "3          Benioff & Weiss              58       20090          8.7   \n",
       "4             Bryan Cogman              56       19123          8.8   \n",
       "5          Benioff & Weiss              55       20062          9.1   \n",
       "\n",
       "           Notable Death Count  \n",
       "Episode #                       \n",
       "1                            4  \n",
       "2                            3  \n",
       "3                            0  \n",
       "4                            1  \n",
       "5                            5  "
      ]
     },
     "execution_count": 216,
     "metadata": {},
     "output_type": "execute_result"
    }
   ],
   "source": [
    "got = pd.read_excel(\"got_clean.xlsx\", index_col = \"Episode #\").drop(\"Rotten Rating\",axis = 1)\n",
    "got.info()\n",
    "got.head()"
   ]
  },
  {
   "cell_type": "markdown",
   "metadata": {
    "toc-hr-collapsed": true
   },
   "source": [
    "## Data exploration"
   ]
  },
  {
   "cell_type": "code",
   "execution_count": 217,
   "metadata": {},
   "outputs": [
    {
     "data": {
      "text/plain": [
       "array([[<matplotlib.axes._subplots.AxesSubplot object at 0x0000024DAC894978>,\n",
       "        <matplotlib.axes._subplots.AxesSubplot object at 0x0000024DAC8F42B0>,\n",
       "        <matplotlib.axes._subplots.AxesSubplot object at 0x0000024DAC914908>],\n",
       "       [<matplotlib.axes._subplots.AxesSubplot object at 0x0000024DAC90B9E8>,\n",
       "        <matplotlib.axes._subplots.AxesSubplot object at 0x0000024DAC97F080>,\n",
       "        <matplotlib.axes._subplots.AxesSubplot object at 0x0000024DAC9A27F0>],\n",
       "       [<matplotlib.axes._subplots.AxesSubplot object at 0x0000024DAC9D1198>,\n",
       "        <matplotlib.axes._subplots.AxesSubplot object at 0x0000024DAC9F6B38>,\n",
       "        <matplotlib.axes._subplots.AxesSubplot object at 0x0000024DAC9F6B70>]],\n",
       "      dtype=object)"
      ]
     },
     "execution_count": 217,
     "metadata": {},
     "output_type": "execute_result"
    },
    {
     "data": {
      "image/png": "[encoded data removed]",
      "text/plain": [
       "<Figure size 720x720 with 9 Axes>"
      ]
     },
     "metadata": {},
     "output_type": "display_data"
    }
   ],
   "source": [
    "got.hist(figsize = (10,10))"
   ]
  },
  {
   "cell_type": "code",
   "execution_count": 218,
   "metadata": {},
   "outputs": [
    {
     "data": {
      "text/plain": [
       "Text(0.5, 1.0, 'Average IMDB  rating by season')"
      ]
     },
     "execution_count": 218,
     "metadata": {},
     "output_type": "execute_result"
    },
    {
     "data": {
      "image/png": "[encoded data removed]",
      "text/plain": [
       "<Figure size 432x288 with 1 Axes>"
      ]
     },
     "metadata": {},
     "output_type": "display_data"
    }
   ],
   "source": [
    "# Average IMDB  rating by season\n",
    "sns.barplot(x = \"Season\", y = \"Imdb Rating\", data  = got)\n",
    "plt.title('Average IMDB  rating by season')"
   ]
  },
  {
   "cell_type": "code",
   "execution_count": 219,
   "metadata": {},
   "outputs": [
    {
     "data": {
      "text/plain": [
       "<matplotlib.axes._subplots.AxesSubplot at 0x24dacb1b9e8>"
      ]
     },
     "execution_count": 219,
     "metadata": {},
     "output_type": "execute_result"
    },
    {
     "data": {
      "image/png": "[encoded data removed]",
      "text/plain": [
       "<Figure size 432x288 with 1 Axes>"
      ]
     },
     "metadata": {},
     "output_type": "display_data"
    }
   ],
   "source": [
    "plt.title('Average IMDB rating vs episode order')\n",
    "sns.barplot(data = got, x = \"Number in Season\", y= \"Imdb Rating\")"
   ]
  },
  {
   "cell_type": "code",
   "execution_count": 220,
   "metadata": {},
   "outputs": [
    {
     "data": {
      "text/plain": [
       "(3.5, 10)"
      ]
     },
     "execution_count": 220,
     "metadata": {},
     "output_type": "execute_result"
    },
    {
     "data": {
      "image/png": "[encoded data removed]",
      "text/plain": [
       "<Figure size 576x360 with 1 Axes>"
      ]
     },
     "metadata": {},
     "output_type": "display_data"
    }
   ],
   "source": [
    "# Battles\n",
    "plt.figure(figsize= (8,5))\n",
    "\n",
    "got_battle = got.loc[got['Major Battle'] == 1]\n",
    "got_nobattle =  got.loc[got['Major Battle'] == 0]\n",
    "sns.kdeplot(got_battle['Imdb Rating'] ,label = \"Episodes with major battles\", shade = True)\n",
    "sns.kdeplot(got_nobattle['Imdb Rating'], label = \"Episodes with no major battles\", shade = True)\n",
    "plt.xlabel(\"IMDB Rating\")\n",
    "plt.xlim(3.5,10)"
   ]
  },
  {
   "cell_type": "code",
   "execution_count": 250,
   "metadata": {},
   "outputs": [
    {
     "data": {
      "text/plain": [
       "(array([0, 1, 2, 3, 4]), <a list of 5 Text xticklabel objects>)"
      ]
     },
     "execution_count": 250,
     "metadata": {},
     "output_type": "execute_result"
    },
    {
     "data": {
      "image/png": "[encoded data removed]",
      "text/plain": [
       "<Figure size 468x360 with 1 Axes>"
      ]
     },
     "metadata": {},
     "output_type": "display_data"
    }
   ],
   "source": [
    "#writers\n",
    "sns.catplot(x = \"Writer\", data = got, y =\"Imdb Rating\",  kind=\"bar\", aspect = 1.3)\n",
    "plt.xticks(rotation=45)"
   ]
  },
  {
   "cell_type": "markdown",
   "metadata": {},
   "source": [
    "### New feature for Season 8\n",
    "\n",
    "Since ratings for season 8 are much different compared to the consistently high ratings of other seasons, it might be useful to add a categorical variable __IsSeason8__ to distinguish between episodes from season 8 and all the others.\n",
    "\n",
    "We will see later if this feature is more or less useful for the model than the original \"Season\" fetaure."
   ]
  },
  {
   "cell_type": "code",
   "execution_count": 222,
   "metadata": {},
   "outputs": [
    {
     "data": {
      "text/plain": [
       "<seaborn.axisgrid.FacetGrid at 0x24dac89d0f0>"
      ]
     },
     "execution_count": 222,
     "metadata": {},
     "output_type": "execute_result"
    },
    {
     "data": {
      "image/png": "[encoded data removed]",
      "text/plain": [
       "<Figure size 360x360 with 1 Axes>"
      ]
     },
     "metadata": {},
     "output_type": "display_data"
    }
   ],
   "source": [
    "got['IsSeason8'] = np.where(got['Season'] == 8, '1', '0')\n",
    "\n",
    "sns.catplot(data = got, x = \"IsSeason8\", y = \"Imdb Rating\", legend = True)"
   ]
  },
  {
   "cell_type": "markdown",
   "metadata": {
    "toc-hr-collapsed": true
   },
   "source": [
    "## Model preparation"
   ]
  },
  {
   "cell_type": "code",
   "execution_count": 223,
   "metadata": {},
   "outputs": [
    {
     "data": {
      "text/plain": [
       "Season                -0.394965\n",
       "Number in Season       0.285181\n",
       "Major Battle           0.127918\n",
       "Runtime (mins)        -0.521255\n",
       "IMDB votes            -0.535670\n",
       "Imdb Rating            1.000000\n",
       "Notable Death Count    0.186765\n",
       "Name: Imdb Rating, dtype: float64"
      ]
     },
     "execution_count": 223,
     "metadata": {},
     "output_type": "execute_result"
    }
   ],
   "source": [
    "# Inspect correlation between target and features\n",
    "got.corr()['Imdb Rating']"
   ]
  },
  {
   "cell_type": "markdown",
   "metadata": {},
   "source": [
    "### Splitting test and training data"
   ]
  },
  {
   "cell_type": "code",
   "execution_count": 224,
   "metadata": {},
   "outputs": [],
   "source": [
    "from sklearn.model_selection import train_test_split\n",
    "\n",
    "all_features = [\"Major Battle\", \"Season\", \"IsSeason8\", \"Runtime (mins)\", \"Number in Season\", \"Notable Death Count\"]\n",
    "x = got[all_features]\n",
    "\n",
    "xTrain, xTest, yTrain, yTest = train_test_split(x, y, test_size = 0.20)"
   ]
  },
  {
   "cell_type": "markdown",
   "metadata": {
    "toc-hr-collapsed": true
   },
   "source": [
    "## Model # 1: Decision Tree Regressor"
   ]
  },
  {
   "cell_type": "markdown",
   "metadata": {},
   "source": [
    "This a model builds a progressively larger decision tree, splitting the data in subsets (the branches of the tree) that can be reached based on some conditions.\n",
    "The last node of each branch is called a leaf, and it is reached when a certain condition is reached (for example, we can tell to stop at a certain __depth__ - the length of the path between a root and a leaf)\n",
    "\n",
    "To choose the best way to split the data, it computes a cost function for each of the possible splits and then chooses the one with the lowest cost. The splitting process can be finetuned by setting some of the parameters of the model, but for now we will stick with the default and worry about parameters later."
   ]
  },
  {
   "cell_type": "markdown",
   "metadata": {},
   "source": [
    "### Feature selection with RFE\n",
    "\n",
    "RFE stands for *Recursive Feature elimination*. It's feature selection method that starts by fitting the model with all features, and than progressively removes the weaker ones until the desired number of features is reached.\n",
    "\n",
    "RFE can also be implemented with cross validation. That means that the dataset is split in K different \"folds\" and the score for each set of features is computed on every fold, and then averaged."
   ]
  },
  {
   "cell_type": "code",
   "execution_count": 225,
   "metadata": {},
   "outputs": [
    {
     "name": "stdout",
     "output_type": "stream",
     "text": [
      "[ True  True False  True  True False]\n"
     ]
    }
   ],
   "source": [
    "from sklearn.feature_selection import RFECV\n",
    "from sklearn.tree import DecisionTreeRegressor\n",
    "\n",
    "tree_reg = DecisionTreeRegressor()\n",
    "\n",
    "rfecv = RFECV(estimator=tree_reg, step=1, cv=3)\n",
    "\n",
    "rfecv = rfecv.fit(xTrain, yTrain)\n",
    "print(rfecv.support_)\n",
    "\n"
   ]
  },
  {
   "cell_type": "code",
   "execution_count": 251,
   "metadata": {},
   "outputs": [
    {
     "data": {
      "text/plain": [
       "Text(0.5, 1.0, 'RFECV Scores')"
      ]
     },
     "execution_count": 251,
     "metadata": {},
     "output_type": "execute_result"
    },
    {
     "data": {
      "image/png": "[encoded data removed]",
      "text/plain": [
       "<Figure size 432x288 with 1 Axes>"
      ]
     },
     "metadata": {},
     "output_type": "display_data"
    }
   ],
   "source": [
    "plt.xlabel(\"Number of features selected\")\n",
    "plt.ylabel(\"Score\")\n",
    "plt.plot(range(1, len(rfecv.grid_scores_) + 1), rfecv.grid_scores_)\n",
    "plt.title(\"RFECV Scores\")"
   ]
  },
  {
   "cell_type": "code",
   "execution_count": 253,
   "metadata": {},
   "outputs": [
    {
     "name": "stdout",
     "output_type": "stream",
     "text": [
      "CHOSEN FEATURES:\n",
      "['Major Battle', 'Season', 'Runtime (mins)', 'Number in Season']\n"
     ]
    }
   ],
   "source": [
    "# I only select the three features recommended by the RFE\n",
    "features_tree = [x for x, y in zip(all_features, rfecv.support_) if y]\n",
    "print(\"CHOSEN FEATURES:\")\n",
    "print(features_tree)\n",
    "\n",
    "xTrain_tree = xTrain[features_tree]\n",
    "xTest_tree = xTest[features_tree]\n"
   ]
  },
  {
   "cell_type": "markdown",
   "metadata": {},
   "source": [
    "### Decision Tree Regressor\n",
    "\n",
    "Now it's time to fit the model on the training set and measure how well it performs (still on the training set).\n",
    "The metric I've chosen is the __RMSE__ - Root Mean Squared Error."
   ]
  },
  {
   "cell_type": "code",
   "execution_count": 228,
   "metadata": {},
   "outputs": [
    {
     "name": "stdout",
     "output_type": "stream",
     "text": [
      "RMSE with Decision Tree Regressor: 0.0\n"
     ]
    }
   ],
   "source": [
    "tree_reg.fit(xTrain_tree, yTrain)\n",
    "\n",
    "tree_predictions = tree_reg.predict(xTrain_tree)\n",
    "print(f'RMSE with Decision Tree Regressor: {np.sqrt(mean_squared_error(yTrain, tree_predictions))}')"
   ]
  },
  {
   "cell_type": "markdown",
   "metadata": {},
   "source": [
    "The Decision Tree Regressor seems to have 0 error! But that's likely because it is overfitting the training set. We will have to check the \"real\" RMSE by using cross-validation in the next sections."
   ]
  },
  {
   "cell_type": "markdown",
   "metadata": {
    "toc-hr-collapsed": true
   },
   "source": [
    "## Model # 2: Random Forest Regressor"
   ]
  },
  {
   "cell_type": "markdown",
   "metadata": {},
   "source": [
    "Compared to a Decision tree regressor, the Random Forest compensates for overfitting by fitting a multitude of decision trees on different sub-samples of the dataset and then averaging between them. Random decision forests correct for decision trees' habit of __overfitting__ to their training set.\n",
    "\n",
    "Indeed, the decision tree we fitted earlier reached 0 error, which means it was very likely overfitting."
   ]
  },
  {
   "cell_type": "markdown",
   "metadata": {},
   "source": [
    "### Feature selection\n",
    "\n",
    "The model itself can be used for feature selection because it can output the *relative importance* of the features."
   ]
  },
  {
   "cell_type": "code",
   "execution_count": 229,
   "metadata": {},
   "outputs": [
    {
     "name": "stdout",
     "output_type": "stream",
     "text": [
      "Major Battle 0.06425694376166005\n",
      "Season 0.2537810549801655\n",
      "IsSeason8 0.2635974606156708\n",
      "Runtime (mins) 0.2102162169766127\n",
      "Number in Season 0.16492068956471428\n",
      "Notable Death Count 0.04322763410117679\n"
     ]
    }
   ],
   "source": [
    "from sklearn.ensemble import RandomForestRegressor\n",
    "\n",
    "rnd_clf = RandomForestRegressor(n_estimators=500, n_jobs=-1)\n",
    "rnd_clf.fit(xTrain, yTrain)\n",
    "for name, score in zip(xTrain, rnd_clf.feature_importances_):\n",
    "    print(name, score)"
   ]
  },
  {
   "cell_type": "code",
   "execution_count": 230,
   "metadata": {},
   "outputs": [],
   "source": [
    "# The best 3 features for this model are \n",
    "# Seson, IsSeason8 and Runtime\n",
    "\n",
    "features_rnd = [\"Season\", \"IsSeason8\", \"Runtime (mins)\"]\n",
    "xTrain_rnd = xTrain[features_rnd]\n",
    "xTest_rnd = xTest[features_rnd]"
   ]
  },
  {
   "cell_type": "markdown",
   "metadata": {},
   "source": [
    "### Random Forest Regressor\n"
   ]
  },
  {
   "cell_type": "code",
   "execution_count": 231,
   "metadata": {},
   "outputs": [
    {
     "name": "stdout",
     "output_type": "stream",
     "text": [
      "RMSE with Random Forest Regressor: 0.3081708238621263\n"
     ]
    }
   ],
   "source": [
    "from sklearn.metrics import mean_squared_error, r2_score\n",
    "\n",
    "rforest_reg = RandomForestRegressor(n_estimators = 100)\n",
    "rforest_reg.fit(xTrain_rnd, yTrain)\n",
    "\n",
    "rforest_predictions = rforest_reg.predict(xTrain_rnd)\n",
    "print(f'RMSE with Random Forest Regressor: {np.sqrt(mean_squared_error(yTrain, rforest_predictions))}')\n"
   ]
  },
  {
   "cell_type": "markdown",
   "metadata": {},
   "source": [
    "## Cross-validation"
   ]
  },
  {
   "cell_type": "markdown",
   "metadata": {},
   "source": [
    "On a first impression, it would seem that the Decision Tree Regressor is the best model. However, there is always a risk that the model is *overfitting* the training data.\n",
    "\n",
    "Cross-validation is a way to check if this is happening. During cross validation, the training dataset is split again in a number K of different ways (called *folds*). \n",
    "Then the model is trained and evaluated on each of the K folds, and the mean and variance of the performance scores can be used to make a better decision on which model to choose.\n"
   ]
  },
  {
   "cell_type": "code",
   "execution_count": 232,
   "metadata": {},
   "outputs": [],
   "source": [
    "def display_scores(scores):\n",
    "    print(\"Scores:\", scores)\n",
    "    print(\"Mean:\", scores.mean())\n",
    "    print(\"Standard deviation:\", scores.std())\n",
    "\n",
    "from sklearn.model_selection import cross_val_score, KFold"
   ]
  },
  {
   "cell_type": "code",
   "execution_count": 244,
   "metadata": {},
   "outputs": [
    {
     "name": "stdout",
     "output_type": "stream",
     "text": [
      "Scores: [0.55136195 0.22949219 0.27902893 1.04505639]\n",
      "Mean: 0.5262348652330477\n",
      "Standard deviation: 0.3236410562333256\n"
     ]
    }
   ],
   "source": [
    "# Decision Tree\n",
    "tree_scores = cross_val_score(tree_reg, xTrain_tree, yTrain, scoring=\"neg_mean_squared_error\",\n",
    "                              cv= KFold(4, shuffle=True))\n",
    "\n",
    "tree_rmse_scores = np.sqrt(-tree_scores)\n",
    "\n",
    "display_scores(tree_rmse_scores)"
   ]
  },
  {
   "cell_type": "code",
   "execution_count": 245,
   "metadata": {},
   "outputs": [
    {
     "name": "stdout",
     "output_type": "stream",
     "text": [
      "Scores: [0.78302539 0.52003125 0.62743606 1.30252368]\n",
      "Mean: 0.8082540971816762\n",
      "Standard deviation: 0.3002942238733925\n"
     ]
    }
   ],
   "source": [
    "# Random Forest\n",
    "forest_scores = cross_val_score(rforest_reg, xTrain_rnd, yTrain, scoring=\"neg_mean_squared_error\",\n",
    "                              cv= KFold(4, shuffle=True))\n",
    "\n",
    "forest_rmse_scores = np.sqrt(-forest_scores)\n",
    "\n",
    "display_scores(forest_rmse_scores)"
   ]
  },
  {
   "cell_type": "markdown",
   "metadata": {},
   "source": [
    "The perfomance of both models has worsened, as expected, and the  __Decision Tree__ regressor still performs better than the Random Forest. Let's see if we can finetune it and increase the performance some more."
   ]
  },
  {
   "cell_type": "code",
   "execution_count": 246,
   "metadata": {},
   "outputs": [],
   "source": [
    "xTrain = xTrain_tree\n",
    "xTest = xTest_tree"
   ]
  },
  {
   "cell_type": "markdown",
   "metadata": {},
   "source": [
    "## Model tuning"
   ]
  },
  {
   "cell_type": "markdown",
   "metadata": {},
   "source": [
    "Each machine learning has a set of parameters that can either have default values, or have to be set by the user. Choosing the right value for these parameters can influence a lot the performance of the model, but it can be difficult to find these values.\n",
    "\n",
    "sklearn offers *GridSearchCV* (CV stands for cross-validation) to find the best combination of parameters from a list of possible values. To find the combination, it also uses cross-validation to evaluate how the model performs on different subset of the training data."
   ]
  },
  {
   "cell_type": "code",
   "execution_count": 247,
   "metadata": {},
   "outputs": [
    {
     "name": "stderr",
     "output_type": "stream",
     "text": [
      "C:\\Users\\Carolina\\Anaconda3\\lib\\site-packages\\sklearn\\model_selection\\_search.py:813: DeprecationWarning: The default of the `iid` parameter will change from True to False in version 0.22 and will be removed in 0.24. This will change numeric results when test-set sizes are unequal.\n",
      "  DeprecationWarning)\n"
     ]
    },
    {
     "data": {
      "text/plain": [
       "{'criterion': 'mse', 'max_depth': 5, 'max_features': 2}"
      ]
     },
     "execution_count": 247,
     "metadata": {},
     "output_type": "execute_result"
    }
   ],
   "source": [
    "from sklearn.model_selection import GridSearchCV\n",
    "\n",
    "param_grid = {'criterion':['mse', 'mae'], 'max_features': [2, 3, None], \"max_depth\": [5, 10, 20, None]}\n",
    "\n",
    "grid_search = GridSearchCV(tree_reg, param_grid, cv= KFold(5, shuffle=True),\n",
    "                           scoring='neg_mean_squared_error')\n",
    "    \n",
    "grid_search.fit(xTrain, yTrain)    \n",
    "grid_search.best_params_"
   ]
  },
  {
   "cell_type": "code",
   "execution_count": 248,
   "metadata": {},
   "outputs": [
    {
     "name": "stdout",
     "output_type": "stream",
     "text": [
      "RMSE with Decision Tree Regressor after parameter tuning: 0.2083390803805015\n"
     ]
    }
   ],
   "source": [
    "tree_reg_new = DecisionTreeRegressor(criterion = \"mse\", max_depth=5, max_features = 2)\n",
    "tree_reg_new.fit(xTrain, yTrain)\n",
    "\n",
    "tree_predictions = tree_reg_new.predict(xTrain)\n",
    "print(f'RMSE with Decision Tree Regressor after parameter tuning: {np.sqrt(mean_squared_error(yTrain, tree_predictions))}')"
   ]
  },
  {
   "cell_type": "markdown",
   "metadata": {},
   "source": [
    "The previous RMSE was higher than this, so that's good. Now, however, we have to test the model on the test set, which we haven't touched until now."
   ]
  },
  {
   "cell_type": "markdown",
   "metadata": {
    "toc-hr-collapsed": false
   },
   "source": [
    "## Evaluating the model"
   ]
  },
  {
   "cell_type": "markdown",
   "metadata": {},
   "source": [
    "We can now compute the RMSE that the model gets when trying to predict the IMDB Rating on the test dataset. To get a better estimate of the error,"
   ]
  },
  {
   "cell_type": "code",
   "execution_count": 249,
   "metadata": {},
   "outputs": [
    {
     "name": "stdout",
     "output_type": "stream",
     "text": [
      "Performance on test set using Decision Tree Regressor:\n",
      "RMSE: 0.48212972743243465\n",
      "Confidence interval: [0.26444387 0.62846447]\n"
     ]
    }
   ],
   "source": [
    "predictions =  tree_reg_new.predict(xTest)\n",
    "print('Performance on test set using Decision Tree Regressor:')\n",
    "print(f'RMSE: {np.sqrt(mean_squared_error(yTest, predictions))}')\n",
    "\n",
    "\n",
    "from scipy import stats\n",
    "confidence = 0.95\n",
    "squared_errors = (predictions - yTest) ** 2\n",
    "interval = np.sqrt(stats.t.interval(confidence, len(squared_errors) - 1, loc=squared_errors.mean(),\n",
    "                                    scale=stats.sem(squared_errors)))\n",
    "\n",
    "print(f'Confidence interval: {interval}')"
   ]
  },
  {
   "cell_type": "markdown",
   "metadata": {},
   "source": [
    "The error is higher than the one of the training set, but it's still acceptable."
   ]
  }
 ],
 "metadata": {
  "kernelspec": {
   "display_name": "Python 3",
   "language": "python",
   "name": "python3"
  },
  "language_info": {
   "codemirror_mode": {
    "name": "ipython",
    "version": 3
   },
   "file_extension": ".py",
   "mimetype": "text/x-python",
   "name": "python",
   "nbconvert_exporter": "python",
   "pygments_lexer": "ipython3",
   "version": "3.6.8"
  }
 },
 "nbformat": 4,
 "nbformat_minor": 2
}
